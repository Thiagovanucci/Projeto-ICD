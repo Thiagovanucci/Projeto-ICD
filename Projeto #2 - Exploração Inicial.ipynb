{
 "cells": [
  {
   "cell_type": "markdown",
   "metadata": {},
   "source": [
    "# Projeto #2 - Exploração Inicial"
   ]
  },
  {
   "cell_type": "markdown",
   "metadata": {},
   "source": [
    "#### Medidas de Centralidade / Medidas de Dispersão / Boxplot"
   ]
  },
  {
   "cell_type": "code",
   "execution_count": 25,
   "metadata": {},
   "outputs": [],
   "source": [
    "import pandas as pd"
   ]
  },
  {
   "cell_type": "code",
   "execution_count": 11,
   "metadata": {},
   "outputs": [
    {
     "data": {
      "text/html": [
       "<div>\n",
       "<style scoped>\n",
       "    .dataframe tbody tr th:only-of-type {\n",
       "        vertical-align: middle;\n",
       "    }\n",
       "\n",
       "    .dataframe tbody tr th {\n",
       "        vertical-align: top;\n",
       "    }\n",
       "\n",
       "    .dataframe thead th {\n",
       "        text-align: right;\n",
       "    }\n",
       "</style>\n",
       "<table border=\"1\" class=\"dataframe\">\n",
       "  <thead>\n",
       "    <tr style=\"text-align: right;\">\n",
       "      <th></th>\n",
       "      <th>Times</th>\n",
       "      <th>Região</th>\n",
       "      <th>Títulos</th>\n",
       "      <th>PTS</th>\n",
       "      <th>J</th>\n",
       "      <th>V</th>\n",
       "      <th>E</th>\n",
       "      <th>D</th>\n",
       "      <th>GP</th>\n",
       "      <th>GC</th>\n",
       "      <th>SG</th>\n",
       "      <th>CA</th>\n",
       "      <th>CV</th>\n",
       "    </tr>\n",
       "  </thead>\n",
       "  <tbody>\n",
       "    <tr>\n",
       "      <th>0</th>\n",
       "      <td>Abc</td>\n",
       "      <td>Nordeste</td>\n",
       "      <td>4</td>\n",
       "      <td>135</td>\n",
       "      <td>130</td>\n",
       "      <td>33</td>\n",
       "      <td>36</td>\n",
       "      <td>61</td>\n",
       "      <td>130</td>\n",
       "      <td>174</td>\n",
       "      <td>-44</td>\n",
       "      <td>336</td>\n",
       "      <td>20</td>\n",
       "    </tr>\n",
       "    <tr>\n",
       "      <th>1</th>\n",
       "      <td>América de Natal</td>\n",
       "      <td>Nordeste</td>\n",
       "      <td>2</td>\n",
       "      <td>92</td>\n",
       "      <td>54</td>\n",
       "      <td>26</td>\n",
       "      <td>14</td>\n",
       "      <td>14</td>\n",
       "      <td>84</td>\n",
       "      <td>51</td>\n",
       "      <td>33</td>\n",
       "      <td>142</td>\n",
       "      <td>12</td>\n",
       "    </tr>\n",
       "    <tr>\n",
       "      <th>2</th>\n",
       "      <td>América-MG</td>\n",
       "      <td>Sudeste</td>\n",
       "      <td>2</td>\n",
       "      <td>267</td>\n",
       "      <td>190</td>\n",
       "      <td>73</td>\n",
       "      <td>48</td>\n",
       "      <td>69</td>\n",
       "      <td>196</td>\n",
       "      <td>203</td>\n",
       "      <td>-7</td>\n",
       "      <td>391</td>\n",
       "      <td>22</td>\n",
       "    </tr>\n",
       "    <tr>\n",
       "      <th>3</th>\n",
       "      <td>ASA</td>\n",
       "      <td>Nordeste</td>\n",
       "      <td>0</td>\n",
       "      <td>91</td>\n",
       "      <td>66</td>\n",
       "      <td>22</td>\n",
       "      <td>25</td>\n",
       "      <td>19</td>\n",
       "      <td>66</td>\n",
       "      <td>71</td>\n",
       "      <td>-5</td>\n",
       "      <td>181</td>\n",
       "      <td>10</td>\n",
       "    </tr>\n",
       "    <tr>\n",
       "      <th>4</th>\n",
       "      <td>Atlético-GO</td>\n",
       "      <td>Centro-Oeste</td>\n",
       "      <td>2</td>\n",
       "      <td>279</td>\n",
       "      <td>190</td>\n",
       "      <td>73</td>\n",
       "      <td>60</td>\n",
       "      <td>57</td>\n",
       "      <td>235</td>\n",
       "      <td>217</td>\n",
       "      <td>18</td>\n",
       "      <td>454</td>\n",
       "      <td>18</td>\n",
       "    </tr>\n",
       "    <tr>\n",
       "      <th>5</th>\n",
       "      <td>Atlético-MG</td>\n",
       "      <td>Sudeste</td>\n",
       "      <td>2</td>\n",
       "      <td>292</td>\n",
       "      <td>190</td>\n",
       "      <td>82</td>\n",
       "      <td>46</td>\n",
       "      <td>62</td>\n",
       "      <td>278</td>\n",
       "      <td>241</td>\n",
       "      <td>37</td>\n",
       "      <td>414</td>\n",
       "      <td>19</td>\n",
       "    </tr>\n",
       "    <tr>\n",
       "      <th>6</th>\n",
       "      <td>Athlético-PR</td>\n",
       "      <td>Sul</td>\n",
       "      <td>5</td>\n",
       "      <td>280</td>\n",
       "      <td>190</td>\n",
       "      <td>79</td>\n",
       "      <td>43</td>\n",
       "      <td>68</td>\n",
       "      <td>231</td>\n",
       "      <td>192</td>\n",
       "      <td>39</td>\n",
       "      <td>410</td>\n",
       "      <td>18</td>\n",
       "    </tr>\n",
       "    <tr>\n",
       "      <th>7</th>\n",
       "      <td>Avaí</td>\n",
       "      <td>Sul</td>\n",
       "      <td>1</td>\n",
       "      <td>232</td>\n",
       "      <td>190</td>\n",
       "      <td>59</td>\n",
       "      <td>55</td>\n",
       "      <td>76</td>\n",
       "      <td>180</td>\n",
       "      <td>236</td>\n",
       "      <td>-56</td>\n",
       "      <td>473</td>\n",
       "      <td>31</td>\n",
       "    </tr>\n",
       "    <tr>\n",
       "      <th>8</th>\n",
       "      <td>Bahia</td>\n",
       "      <td>Nordeste</td>\n",
       "      <td>4</td>\n",
       "      <td>268</td>\n",
       "      <td>190</td>\n",
       "      <td>70</td>\n",
       "      <td>58</td>\n",
       "      <td>62</td>\n",
       "      <td>238</td>\n",
       "      <td>207</td>\n",
       "      <td>31</td>\n",
       "      <td>435</td>\n",
       "      <td>28</td>\n",
       "    </tr>\n",
       "    <tr>\n",
       "      <th>9</th>\n",
       "      <td>Botafogo</td>\n",
       "      <td>Sudeste</td>\n",
       "      <td>2</td>\n",
       "      <td>278</td>\n",
       "      <td>190</td>\n",
       "      <td>78</td>\n",
       "      <td>44</td>\n",
       "      <td>68</td>\n",
       "      <td>217</td>\n",
       "      <td>202</td>\n",
       "      <td>15</td>\n",
       "      <td>440</td>\n",
       "      <td>16</td>\n",
       "    </tr>\n",
       "    <tr>\n",
       "      <th>10</th>\n",
       "      <td>Botafogo PB</td>\n",
       "      <td>Nordeste</td>\n",
       "      <td>3</td>\n",
       "      <td>123</td>\n",
       "      <td>90</td>\n",
       "      <td>31</td>\n",
       "      <td>30</td>\n",
       "      <td>29</td>\n",
       "      <td>110</td>\n",
       "      <td>103</td>\n",
       "      <td>7</td>\n",
       "      <td>253</td>\n",
       "      <td>15</td>\n",
       "    </tr>\n",
       "    <tr>\n",
       "      <th>11</th>\n",
       "      <td>Brasiliense</td>\n",
       "      <td>Centro-Oeste</td>\n",
       "      <td>1</td>\n",
       "      <td>23</td>\n",
       "      <td>12</td>\n",
       "      <td>6</td>\n",
       "      <td>5</td>\n",
       "      <td>1</td>\n",
       "      <td>14</td>\n",
       "      <td>5</td>\n",
       "      <td>9</td>\n",
       "      <td>19</td>\n",
       "      <td>1</td>\n",
       "    </tr>\n",
       "    <tr>\n",
       "      <th>12</th>\n",
       "      <td>Campinense</td>\n",
       "      <td>Nordeste</td>\n",
       "      <td>1</td>\n",
       "      <td>55</td>\n",
       "      <td>32</td>\n",
       "      <td>16</td>\n",
       "      <td>7</td>\n",
       "      <td>9</td>\n",
       "      <td>41</td>\n",
       "      <td>23</td>\n",
       "      <td>18</td>\n",
       "      <td>86</td>\n",
       "      <td>4</td>\n",
       "    </tr>\n",
       "    <tr>\n",
       "      <th>13</th>\n",
       "      <td>Ceará</td>\n",
       "      <td>Nordeste</td>\n",
       "      <td>3</td>\n",
       "      <td>249</td>\n",
       "      <td>190</td>\n",
       "      <td>65</td>\n",
       "      <td>54</td>\n",
       "      <td>71</td>\n",
       "      <td>205</td>\n",
       "      <td>208</td>\n",
       "      <td>-3</td>\n",
       "      <td>441</td>\n",
       "      <td>27</td>\n",
       "    </tr>\n",
       "    <tr>\n",
       "      <th>14</th>\n",
       "      <td>Central</td>\n",
       "      <td>Nordeste</td>\n",
       "      <td>0</td>\n",
       "      <td>47</td>\n",
       "      <td>32</td>\n",
       "      <td>13</td>\n",
       "      <td>8</td>\n",
       "      <td>11</td>\n",
       "      <td>40</td>\n",
       "      <td>33</td>\n",
       "      <td>7</td>\n",
       "      <td>101</td>\n",
       "      <td>5</td>\n",
       "    </tr>\n",
       "    <tr>\n",
       "      <th>15</th>\n",
       "      <td>Chapecoense</td>\n",
       "      <td>Sul</td>\n",
       "      <td>4</td>\n",
       "      <td>229</td>\n",
       "      <td>190</td>\n",
       "      <td>58</td>\n",
       "      <td>55</td>\n",
       "      <td>77</td>\n",
       "      <td>195</td>\n",
       "      <td>251</td>\n",
       "      <td>-56</td>\n",
       "      <td>417</td>\n",
       "      <td>16</td>\n",
       "    </tr>\n",
       "    <tr>\n",
       "      <th>16</th>\n",
       "      <td>Confiança</td>\n",
       "      <td>Nordeste</td>\n",
       "      <td>3</td>\n",
       "      <td>127</td>\n",
       "      <td>90</td>\n",
       "      <td>32</td>\n",
       "      <td>31</td>\n",
       "      <td>27</td>\n",
       "      <td>116</td>\n",
       "      <td>114</td>\n",
       "      <td>2</td>\n",
       "      <td>235</td>\n",
       "      <td>10</td>\n",
       "    </tr>\n",
       "    <tr>\n",
       "      <th>17</th>\n",
       "      <td>Corintinhas</td>\n",
       "      <td>Sudeste</td>\n",
       "      <td>5</td>\n",
       "      <td>308</td>\n",
       "      <td>190</td>\n",
       "      <td>85</td>\n",
       "      <td>53</td>\n",
       "      <td>52</td>\n",
       "      <td>245</td>\n",
       "      <td>172</td>\n",
       "      <td>73</td>\n",
       "      <td>370</td>\n",
       "      <td>13</td>\n",
       "    </tr>\n",
       "    <tr>\n",
       "      <th>18</th>\n",
       "      <td>Coritiba</td>\n",
       "      <td>Sul</td>\n",
       "      <td>1</td>\n",
       "      <td>251</td>\n",
       "      <td>190</td>\n",
       "      <td>64</td>\n",
       "      <td>59</td>\n",
       "      <td>67</td>\n",
       "      <td>202</td>\n",
       "      <td>213</td>\n",
       "      <td>-11</td>\n",
       "      <td>520</td>\n",
       "      <td>25</td>\n",
       "    </tr>\n",
       "    <tr>\n",
       "      <th>19</th>\n",
       "      <td>CRB</td>\n",
       "      <td>Nordeste</td>\n",
       "      <td>4</td>\n",
       "      <td>260</td>\n",
       "      <td>190</td>\n",
       "      <td>71</td>\n",
       "      <td>47</td>\n",
       "      <td>72</td>\n",
       "      <td>218</td>\n",
       "      <td>231</td>\n",
       "      <td>-13</td>\n",
       "      <td>480</td>\n",
       "      <td>36</td>\n",
       "    </tr>\n",
       "    <tr>\n",
       "      <th>20</th>\n",
       "      <td>Criciúma</td>\n",
       "      <td>Sul</td>\n",
       "      <td>0</td>\n",
       "      <td>237</td>\n",
       "      <td>190</td>\n",
       "      <td>59</td>\n",
       "      <td>60</td>\n",
       "      <td>71</td>\n",
       "      <td>204</td>\n",
       "      <td>222</td>\n",
       "      <td>-18</td>\n",
       "      <td>514</td>\n",
       "      <td>26</td>\n",
       "    </tr>\n",
       "    <tr>\n",
       "      <th>21</th>\n",
       "      <td>Cruzeiro</td>\n",
       "      <td>Sudeste</td>\n",
       "      <td>4</td>\n",
       "      <td>252</td>\n",
       "      <td>190</td>\n",
       "      <td>65</td>\n",
       "      <td>57</td>\n",
       "      <td>68</td>\n",
       "      <td>200</td>\n",
       "      <td>203</td>\n",
       "      <td>-3</td>\n",
       "      <td>451</td>\n",
       "      <td>27</td>\n",
       "    </tr>\n",
       "    <tr>\n",
       "      <th>22</th>\n",
       "      <td>Csa</td>\n",
       "      <td>Nordeste</td>\n",
       "      <td>3</td>\n",
       "      <td>169</td>\n",
       "      <td>116</td>\n",
       "      <td>46</td>\n",
       "      <td>31</td>\n",
       "      <td>39</td>\n",
       "      <td>128</td>\n",
       "      <td>124</td>\n",
       "      <td>4</td>\n",
       "      <td>299</td>\n",
       "      <td>10</td>\n",
       "    </tr>\n",
       "    <tr>\n",
       "      <th>23</th>\n",
       "      <td>Cuiabá</td>\n",
       "      <td>Centro-Oeste</td>\n",
       "      <td>6</td>\n",
       "      <td>148</td>\n",
       "      <td>110</td>\n",
       "      <td>37</td>\n",
       "      <td>37</td>\n",
       "      <td>36</td>\n",
       "      <td>131</td>\n",
       "      <td>120</td>\n",
       "      <td>11</td>\n",
       "      <td>334</td>\n",
       "      <td>18</td>\n",
       "    </tr>\n",
       "    <tr>\n",
       "      <th>24</th>\n",
       "      <td>Fast</td>\n",
       "      <td>Norte</td>\n",
       "      <td>1</td>\n",
       "      <td>0</td>\n",
       "      <td>0</td>\n",
       "      <td>0</td>\n",
       "      <td>0</td>\n",
       "      <td>0</td>\n",
       "      <td>0</td>\n",
       "      <td>0</td>\n",
       "      <td>0</td>\n",
       "      <td>0</td>\n",
       "      <td>0</td>\n",
       "    </tr>\n",
       "    <tr>\n",
       "      <th>25</th>\n",
       "      <td>Figueirense</td>\n",
       "      <td>Sul</td>\n",
       "      <td>1</td>\n",
       "      <td>215</td>\n",
       "      <td>190</td>\n",
       "      <td>49</td>\n",
       "      <td>68</td>\n",
       "      <td>73</td>\n",
       "      <td>189</td>\n",
       "      <td>238</td>\n",
       "      <td>-49</td>\n",
       "      <td>474</td>\n",
       "      <td>30</td>\n",
       "    </tr>\n",
       "    <tr>\n",
       "      <th>26</th>\n",
       "      <td>Flamengo</td>\n",
       "      <td>Sudeste</td>\n",
       "      <td>4</td>\n",
       "      <td>338</td>\n",
       "      <td>190</td>\n",
       "      <td>99</td>\n",
       "      <td>41</td>\n",
       "      <td>50</td>\n",
       "      <td>291</td>\n",
       "      <td>192</td>\n",
       "      <td>99</td>\n",
       "      <td>391</td>\n",
       "      <td>26</td>\n",
       "    </tr>\n",
       "    <tr>\n",
       "      <th>27</th>\n",
       "      <td>Flamengo Piauí</td>\n",
       "      <td>Nordeste</td>\n",
       "      <td>0</td>\n",
       "      <td>0</td>\n",
       "      <td>0</td>\n",
       "      <td>0</td>\n",
       "      <td>0</td>\n",
       "      <td>0</td>\n",
       "      <td>0</td>\n",
       "      <td>0</td>\n",
       "      <td>0</td>\n",
       "      <td>0</td>\n",
       "      <td>0</td>\n",
       "    </tr>\n",
       "    <tr>\n",
       "      <th>28</th>\n",
       "      <td>Flu de Feira</td>\n",
       "      <td>Nordeste</td>\n",
       "      <td>0</td>\n",
       "      <td>43</td>\n",
       "      <td>24</td>\n",
       "      <td>11</td>\n",
       "      <td>10</td>\n",
       "      <td>3</td>\n",
       "      <td>44</td>\n",
       "      <td>20</td>\n",
       "      <td>24</td>\n",
       "      <td>57</td>\n",
       "      <td>12</td>\n",
       "    </tr>\n",
       "    <tr>\n",
       "      <th>29</th>\n",
       "      <td>Fluminense</td>\n",
       "      <td>Sudeste</td>\n",
       "      <td>0</td>\n",
       "      <td>235</td>\n",
       "      <td>190</td>\n",
       "      <td>62</td>\n",
       "      <td>49</td>\n",
       "      <td>79</td>\n",
       "      <td>205</td>\n",
       "      <td>239</td>\n",
       "      <td>-34</td>\n",
       "      <td>453</td>\n",
       "      <td>31</td>\n",
       "    </tr>\n",
       "    <tr>\n",
       "      <th>30</th>\n",
       "      <td>Fortaleza</td>\n",
       "      <td>Nordeste</td>\n",
       "      <td>5</td>\n",
       "      <td>228</td>\n",
       "      <td>140</td>\n",
       "      <td>63</td>\n",
       "      <td>39</td>\n",
       "      <td>38</td>\n",
       "      <td>187</td>\n",
       "      <td>135</td>\n",
       "      <td>52</td>\n",
       "      <td>280</td>\n",
       "      <td>25</td>\n",
       "    </tr>\n",
       "    <tr>\n",
       "      <th>31</th>\n",
       "      <td>Gama</td>\n",
       "      <td>Centro-Oeste</td>\n",
       "      <td>3</td>\n",
       "      <td>13</td>\n",
       "      <td>8</td>\n",
       "      <td>3</td>\n",
       "      <td>4</td>\n",
       "      <td>1</td>\n",
       "      <td>9</td>\n",
       "      <td>6</td>\n",
       "      <td>3</td>\n",
       "      <td>25</td>\n",
       "      <td>2</td>\n",
       "    </tr>\n",
       "    <tr>\n",
       "      <th>32</th>\n",
       "      <td>Goiás</td>\n",
       "      <td>Centro-Oeste</td>\n",
       "      <td>4</td>\n",
       "      <td>245</td>\n",
       "      <td>190</td>\n",
       "      <td>68</td>\n",
       "      <td>41</td>\n",
       "      <td>81</td>\n",
       "      <td>223</td>\n",
       "      <td>257</td>\n",
       "      <td>-34</td>\n",
       "      <td>439</td>\n",
       "      <td>26</td>\n",
       "    </tr>\n",
       "    <tr>\n",
       "      <th>33</th>\n",
       "      <td>Grêmio</td>\n",
       "      <td>Sul</td>\n",
       "      <td>5</td>\n",
       "      <td>314</td>\n",
       "      <td>190</td>\n",
       "      <td>89</td>\n",
       "      <td>47</td>\n",
       "      <td>54</td>\n",
       "      <td>260</td>\n",
       "      <td>178</td>\n",
       "      <td>82</td>\n",
       "      <td>420</td>\n",
       "      <td>13</td>\n",
       "    </tr>\n",
       "    <tr>\n",
       "      <th>34</th>\n",
       "      <td>Guarani</td>\n",
       "      <td>Sudeste</td>\n",
       "      <td>0</td>\n",
       "      <td>209</td>\n",
       "      <td>150</td>\n",
       "      <td>55</td>\n",
       "      <td>44</td>\n",
       "      <td>51</td>\n",
       "      <td>156</td>\n",
       "      <td>150</td>\n",
       "      <td>6</td>\n",
       "      <td>335</td>\n",
       "      <td>19</td>\n",
       "    </tr>\n",
       "    <tr>\n",
       "      <th>35</th>\n",
       "      <td>Guarany de Sobral</td>\n",
       "      <td>Nordeste</td>\n",
       "      <td>0</td>\n",
       "      <td>17</td>\n",
       "      <td>26</td>\n",
       "      <td>2</td>\n",
       "      <td>11</td>\n",
       "      <td>13</td>\n",
       "      <td>20</td>\n",
       "      <td>48</td>\n",
       "      <td>-28</td>\n",
       "      <td>65</td>\n",
       "      <td>4</td>\n",
       "    </tr>\n",
       "    <tr>\n",
       "      <th>36</th>\n",
       "      <td>Imperatriz</td>\n",
       "      <td>Nordeste</td>\n",
       "      <td>2</td>\n",
       "      <td>45</td>\n",
       "      <td>32</td>\n",
       "      <td>12</td>\n",
       "      <td>9</td>\n",
       "      <td>11</td>\n",
       "      <td>48</td>\n",
       "      <td>36</td>\n",
       "      <td>12</td>\n",
       "      <td>71</td>\n",
       "      <td>5</td>\n",
       "    </tr>\n",
       "    <tr>\n",
       "      <th>37</th>\n",
       "      <td>Internacional</td>\n",
       "      <td>Sul</td>\n",
       "      <td>2</td>\n",
       "      <td>300</td>\n",
       "      <td>190</td>\n",
       "      <td>83</td>\n",
       "      <td>51</td>\n",
       "      <td>56</td>\n",
       "      <td>223</td>\n",
       "      <td>172</td>\n",
       "      <td>51</td>\n",
       "      <td>498</td>\n",
       "      <td>21</td>\n",
       "    </tr>\n",
       "    <tr>\n",
       "      <th>38</th>\n",
       "      <td>Joinville</td>\n",
       "      <td>Sul</td>\n",
       "      <td>0</td>\n",
       "      <td>117</td>\n",
       "      <td>118</td>\n",
       "      <td>28</td>\n",
       "      <td>33</td>\n",
       "      <td>57</td>\n",
       "      <td>102</td>\n",
       "      <td>152</td>\n",
       "      <td>-50</td>\n",
       "      <td>281</td>\n",
       "      <td>26</td>\n",
       "    </tr>\n",
       "    <tr>\n",
       "      <th>39</th>\n",
       "      <td>Luverdense</td>\n",
       "      <td>Centro-Oeste</td>\n",
       "      <td>2</td>\n",
       "      <td>190</td>\n",
       "      <td>150</td>\n",
       "      <td>46</td>\n",
       "      <td>52</td>\n",
       "      <td>52</td>\n",
       "      <td>167</td>\n",
       "      <td>163</td>\n",
       "      <td>4</td>\n",
       "      <td>348</td>\n",
       "      <td>24</td>\n",
       "    </tr>\n",
       "    <tr>\n",
       "      <th>40</th>\n",
       "      <td>Moto Club</td>\n",
       "      <td>Nordeste</td>\n",
       "      <td>2</td>\n",
       "      <td>37</td>\n",
       "      <td>18</td>\n",
       "      <td>10</td>\n",
       "      <td>7</td>\n",
       "      <td>1</td>\n",
       "      <td>30</td>\n",
       "      <td>9</td>\n",
       "      <td>21</td>\n",
       "      <td>33</td>\n",
       "      <td>3</td>\n",
       "    </tr>\n",
       "    <tr>\n",
       "      <th>41</th>\n",
       "      <td>Náutico</td>\n",
       "      <td>Nordeste</td>\n",
       "      <td>2</td>\n",
       "      <td>219</td>\n",
       "      <td>150</td>\n",
       "      <td>63</td>\n",
       "      <td>30</td>\n",
       "      <td>57</td>\n",
       "      <td>183</td>\n",
       "      <td>176</td>\n",
       "      <td>7</td>\n",
       "      <td>340</td>\n",
       "      <td>21</td>\n",
       "    </tr>\n",
       "    <tr>\n",
       "      <th>42</th>\n",
       "      <td>Palmeiras</td>\n",
       "      <td>Sudeste</td>\n",
       "      <td>3</td>\n",
       "      <td>350</td>\n",
       "      <td>190</td>\n",
       "      <td>102</td>\n",
       "      <td>44</td>\n",
       "      <td>44</td>\n",
       "      <td>308</td>\n",
       "      <td>186</td>\n",
       "      <td>122</td>\n",
       "      <td>468</td>\n",
       "      <td>19</td>\n",
       "    </tr>\n",
       "    <tr>\n",
       "      <th>43</th>\n",
       "      <td>Paraná</td>\n",
       "      <td>Sul</td>\n",
       "      <td>0</td>\n",
       "      <td>231</td>\n",
       "      <td>190</td>\n",
       "      <td>58</td>\n",
       "      <td>57</td>\n",
       "      <td>75</td>\n",
       "      <td>179</td>\n",
       "      <td>216</td>\n",
       "      <td>-37</td>\n",
       "      <td>459</td>\n",
       "      <td>32</td>\n",
       "    </tr>\n",
       "    <tr>\n",
       "      <th>44</th>\n",
       "      <td>Paysandu</td>\n",
       "      <td>Norte</td>\n",
       "      <td>4</td>\n",
       "      <td>228</td>\n",
       "      <td>170</td>\n",
       "      <td>57</td>\n",
       "      <td>57</td>\n",
       "      <td>56</td>\n",
       "      <td>190</td>\n",
       "      <td>189</td>\n",
       "      <td>1</td>\n",
       "      <td>446</td>\n",
       "      <td>26</td>\n",
       "    </tr>\n",
       "    <tr>\n",
       "      <th>45</th>\n",
       "      <td>Ponte Preta</td>\n",
       "      <td>Sudeste</td>\n",
       "      <td>0</td>\n",
       "      <td>250</td>\n",
       "      <td>190</td>\n",
       "      <td>65</td>\n",
       "      <td>55</td>\n",
       "      <td>70</td>\n",
       "      <td>209</td>\n",
       "      <td>213</td>\n",
       "      <td>-4</td>\n",
       "      <td>480</td>\n",
       "      <td>33</td>\n",
       "    </tr>\n",
       "    <tr>\n",
       "      <th>46</th>\n",
       "      <td>Remo</td>\n",
       "      <td>Norte</td>\n",
       "      <td>3</td>\n",
       "      <td>113</td>\n",
       "      <td>80</td>\n",
       "      <td>28</td>\n",
       "      <td>29</td>\n",
       "      <td>23</td>\n",
       "      <td>91</td>\n",
       "      <td>81</td>\n",
       "      <td>10</td>\n",
       "      <td>231</td>\n",
       "      <td>21</td>\n",
       "    </tr>\n",
       "    <tr>\n",
       "      <th>47</th>\n",
       "      <td>Rio Branco- Ac</td>\n",
       "      <td>Norte</td>\n",
       "      <td>2</td>\n",
       "      <td>47</td>\n",
       "      <td>32</td>\n",
       "      <td>13</td>\n",
       "      <td>8</td>\n",
       "      <td>11</td>\n",
       "      <td>45</td>\n",
       "      <td>50</td>\n",
       "      <td>-5</td>\n",
       "      <td>75</td>\n",
       "      <td>8</td>\n",
       "    </tr>\n",
       "    <tr>\n",
       "      <th>48</th>\n",
       "      <td>River</td>\n",
       "      <td>Nordeste</td>\n",
       "      <td>3</td>\n",
       "      <td>47</td>\n",
       "      <td>38</td>\n",
       "      <td>11</td>\n",
       "      <td>14</td>\n",
       "      <td>13</td>\n",
       "      <td>39</td>\n",
       "      <td>45</td>\n",
       "      <td>-6</td>\n",
       "      <td>108</td>\n",
       "      <td>9</td>\n",
       "    </tr>\n",
       "    <tr>\n",
       "      <th>49</th>\n",
       "      <td>Sampaio Corrêa</td>\n",
       "      <td>Nordeste</td>\n",
       "      <td>3</td>\n",
       "      <td>186</td>\n",
       "      <td>150</td>\n",
       "      <td>48</td>\n",
       "      <td>42</td>\n",
       "      <td>60</td>\n",
       "      <td>158</td>\n",
       "      <td>186</td>\n",
       "      <td>-28</td>\n",
       "      <td>366</td>\n",
       "      <td>29</td>\n",
       "    </tr>\n",
       "    <tr>\n",
       "      <th>50</th>\n",
       "      <td>Santa Cruz</td>\n",
       "      <td>Nordeste</td>\n",
       "      <td>2</td>\n",
       "      <td>191</td>\n",
       "      <td>152</td>\n",
       "      <td>50</td>\n",
       "      <td>41</td>\n",
       "      <td>61</td>\n",
       "      <td>198</td>\n",
       "      <td>209</td>\n",
       "      <td>-11</td>\n",
       "      <td>362</td>\n",
       "      <td>25</td>\n",
       "    </tr>\n",
       "    <tr>\n",
       "      <th>51</th>\n",
       "      <td>Santos</td>\n",
       "      <td>Sudeste</td>\n",
       "      <td>2</td>\n",
       "      <td>316</td>\n",
       "      <td>190</td>\n",
       "      <td>90</td>\n",
       "      <td>46</td>\n",
       "      <td>54</td>\n",
       "      <td>266</td>\n",
       "      <td>181</td>\n",
       "      <td>85</td>\n",
       "      <td>445</td>\n",
       "      <td>32</td>\n",
       "    </tr>\n",
       "    <tr>\n",
       "      <th>52</th>\n",
       "      <td>São Paulo</td>\n",
       "      <td>Sudeste</td>\n",
       "      <td>0</td>\n",
       "      <td>290</td>\n",
       "      <td>190</td>\n",
       "      <td>78</td>\n",
       "      <td>56</td>\n",
       "      <td>56</td>\n",
       "      <td>230</td>\n",
       "      <td>196</td>\n",
       "      <td>34</td>\n",
       "      <td>415</td>\n",
       "      <td>27</td>\n",
       "    </tr>\n",
       "    <tr>\n",
       "      <th>53</th>\n",
       "      <td>São Raimundo</td>\n",
       "      <td>Norte</td>\n",
       "      <td>1</td>\n",
       "      <td>44</td>\n",
       "      <td>24</td>\n",
       "      <td>13</td>\n",
       "      <td>5</td>\n",
       "      <td>6</td>\n",
       "      <td>45</td>\n",
       "      <td>24</td>\n",
       "      <td>21</td>\n",
       "      <td>67</td>\n",
       "      <td>2</td>\n",
       "    </tr>\n",
       "    <tr>\n",
       "      <th>54</th>\n",
       "      <td>Sergipe</td>\n",
       "      <td>Nordeste</td>\n",
       "      <td>2</td>\n",
       "      <td>28</td>\n",
       "      <td>24</td>\n",
       "      <td>7</td>\n",
       "      <td>7</td>\n",
       "      <td>10</td>\n",
       "      <td>32</td>\n",
       "      <td>34</td>\n",
       "      <td>-2</td>\n",
       "      <td>57</td>\n",
       "      <td>7</td>\n",
       "    </tr>\n",
       "    <tr>\n",
       "      <th>55</th>\n",
       "      <td>Sport</td>\n",
       "      <td>Nordeste</td>\n",
       "      <td>2</td>\n",
       "      <td>258</td>\n",
       "      <td>190</td>\n",
       "      <td>68</td>\n",
       "      <td>57</td>\n",
       "      <td>65</td>\n",
       "      <td>232</td>\n",
       "      <td>237</td>\n",
       "      <td>-5</td>\n",
       "      <td>393</td>\n",
       "      <td>23</td>\n",
       "    </tr>\n",
       "    <tr>\n",
       "      <th>56</th>\n",
       "      <td>Treze</td>\n",
       "      <td>Nordeste</td>\n",
       "      <td>1</td>\n",
       "      <td>46</td>\n",
       "      <td>32</td>\n",
       "      <td>12</td>\n",
       "      <td>10</td>\n",
       "      <td>10</td>\n",
       "      <td>47</td>\n",
       "      <td>36</td>\n",
       "      <td>11</td>\n",
       "      <td>90</td>\n",
       "      <td>8</td>\n",
       "    </tr>\n",
       "    <tr>\n",
       "      <th>57</th>\n",
       "      <td>Vasco</td>\n",
       "      <td>Sudeste</td>\n",
       "      <td>2</td>\n",
       "      <td>254</td>\n",
       "      <td>190</td>\n",
       "      <td>66</td>\n",
       "      <td>56</td>\n",
       "      <td>68</td>\n",
       "      <td>202</td>\n",
       "      <td>235</td>\n",
       "      <td>-33</td>\n",
       "      <td>524</td>\n",
       "      <td>33</td>\n",
       "    </tr>\n",
       "    <tr>\n",
       "      <th>58</th>\n",
       "      <td>Vila Nova</td>\n",
       "      <td>Centro-Oeste</td>\n",
       "      <td>1</td>\n",
       "      <td>240</td>\n",
       "      <td>170</td>\n",
       "      <td>61</td>\n",
       "      <td>57</td>\n",
       "      <td>52</td>\n",
       "      <td>184</td>\n",
       "      <td>171</td>\n",
       "      <td>13</td>\n",
       "      <td>424</td>\n",
       "      <td>26</td>\n",
       "    </tr>\n",
       "    <tr>\n",
       "      <th>59</th>\n",
       "      <td>Vitória</td>\n",
       "      <td>Nordeste</td>\n",
       "      <td>2</td>\n",
       "      <td>236</td>\n",
       "      <td>190</td>\n",
       "      <td>62</td>\n",
       "      <td>50</td>\n",
       "      <td>78</td>\n",
       "      <td>237</td>\n",
       "      <td>262</td>\n",
       "      <td>-25</td>\n",
       "      <td>500</td>\n",
       "      <td>32</td>\n",
       "    </tr>\n",
       "  </tbody>\n",
       "</table>\n",
       "</div>"
      ],
      "text/plain": [
       "                Times        Região  Títulos  PTS    J    V   E   D   GP   GC  \\\n",
       "0                 Abc      Nordeste        4  135  130   33  36  61  130  174   \n",
       "1    América de Natal      Nordeste        2   92   54   26  14  14   84   51   \n",
       "2          América-MG       Sudeste        2  267  190   73  48  69  196  203   \n",
       "3                 ASA      Nordeste        0   91   66   22  25  19   66   71   \n",
       "4         Atlético-GO  Centro-Oeste        2  279  190   73  60  57  235  217   \n",
       "5         Atlético-MG       Sudeste        2  292  190   82  46  62  278  241   \n",
       "6        Athlético-PR           Sul        5  280  190   79  43  68  231  192   \n",
       "7                Avaí           Sul        1  232  190   59  55  76  180  236   \n",
       "8               Bahia      Nordeste        4  268  190   70  58  62  238  207   \n",
       "9            Botafogo       Sudeste        2  278  190   78  44  68  217  202   \n",
       "10        Botafogo PB      Nordeste        3  123   90   31  30  29  110  103   \n",
       "11        Brasiliense  Centro-Oeste        1   23   12    6   5   1   14    5   \n",
       "12         Campinense      Nordeste        1   55   32   16   7   9   41   23   \n",
       "13              Ceará      Nordeste        3  249  190   65  54  71  205  208   \n",
       "14            Central      Nordeste        0   47   32   13   8  11   40   33   \n",
       "15        Chapecoense           Sul        4  229  190   58  55  77  195  251   \n",
       "16          Confiança      Nordeste        3  127   90   32  31  27  116  114   \n",
       "17        Corintinhas       Sudeste        5  308  190   85  53  52  245  172   \n",
       "18           Coritiba           Sul        1  251  190   64  59  67  202  213   \n",
       "19                CRB      Nordeste        4  260  190   71  47  72  218  231   \n",
       "20           Criciúma           Sul        0  237  190   59  60  71  204  222   \n",
       "21           Cruzeiro       Sudeste        4  252  190   65  57  68  200  203   \n",
       "22                Csa      Nordeste        3  169  116   46  31  39  128  124   \n",
       "23             Cuiabá  Centro-Oeste        6  148  110   37  37  36  131  120   \n",
       "24               Fast         Norte        1    0    0    0   0   0    0    0   \n",
       "25        Figueirense           Sul        1  215  190   49  68  73  189  238   \n",
       "26           Flamengo       Sudeste        4  338  190   99  41  50  291  192   \n",
       "27     Flamengo Piauí      Nordeste        0    0    0    0   0   0    0    0   \n",
       "28       Flu de Feira      Nordeste        0   43   24   11  10   3   44   20   \n",
       "29         Fluminense       Sudeste        0  235  190   62  49  79  205  239   \n",
       "30          Fortaleza      Nordeste        5  228  140   63  39  38  187  135   \n",
       "31               Gama  Centro-Oeste        3   13    8    3   4   1    9    6   \n",
       "32              Goiás  Centro-Oeste        4  245  190   68  41  81  223  257   \n",
       "33             Grêmio           Sul        5  314  190   89  47  54  260  178   \n",
       "34            Guarani       Sudeste        0  209  150   55  44  51  156  150   \n",
       "35  Guarany de Sobral      Nordeste        0   17   26    2  11  13   20   48   \n",
       "36         Imperatriz      Nordeste        2   45   32   12   9  11   48   36   \n",
       "37      Internacional           Sul        2  300  190   83  51  56  223  172   \n",
       "38          Joinville           Sul        0  117  118   28  33  57  102  152   \n",
       "39         Luverdense  Centro-Oeste        2  190  150   46  52  52  167  163   \n",
       "40          Moto Club      Nordeste        2   37   18   10   7   1   30    9   \n",
       "41            Náutico      Nordeste        2  219  150   63  30  57  183  176   \n",
       "42          Palmeiras       Sudeste        3  350  190  102  44  44  308  186   \n",
       "43             Paraná           Sul        0  231  190   58  57  75  179  216   \n",
       "44           Paysandu         Norte        4  228  170   57  57  56  190  189   \n",
       "45        Ponte Preta       Sudeste        0  250  190   65  55  70  209  213   \n",
       "46               Remo         Norte        3  113   80   28  29  23   91   81   \n",
       "47     Rio Branco- Ac         Norte        2   47   32   13   8  11   45   50   \n",
       "48              River      Nordeste        3   47   38   11  14  13   39   45   \n",
       "49     Sampaio Corrêa      Nordeste        3  186  150   48  42  60  158  186   \n",
       "50         Santa Cruz      Nordeste        2  191  152   50  41  61  198  209   \n",
       "51             Santos       Sudeste        2  316  190   90  46  54  266  181   \n",
       "52          São Paulo       Sudeste        0  290  190   78  56  56  230  196   \n",
       "53       São Raimundo         Norte        1   44   24   13   5   6   45   24   \n",
       "54            Sergipe      Nordeste        2   28   24    7   7  10   32   34   \n",
       "55              Sport      Nordeste        2  258  190   68  57  65  232  237   \n",
       "56              Treze      Nordeste        1   46   32   12  10  10   47   36   \n",
       "57              Vasco       Sudeste        2  254  190   66  56  68  202  235   \n",
       "58          Vila Nova  Centro-Oeste        1  240  170   61  57  52  184  171   \n",
       "59            Vitória      Nordeste        2  236  190   62  50  78  237  262   \n",
       "\n",
       "     SG   CA  CV  \n",
       "0   -44  336  20  \n",
       "1    33  142  12  \n",
       "2    -7  391  22  \n",
       "3    -5  181  10  \n",
       "4    18  454  18  \n",
       "5    37  414  19  \n",
       "6    39  410  18  \n",
       "7   -56  473  31  \n",
       "8    31  435  28  \n",
       "9    15  440  16  \n",
       "10    7  253  15  \n",
       "11    9   19   1  \n",
       "12   18   86   4  \n",
       "13   -3  441  27  \n",
       "14    7  101   5  \n",
       "15  -56  417  16  \n",
       "16    2  235  10  \n",
       "17   73  370  13  \n",
       "18  -11  520  25  \n",
       "19  -13  480  36  \n",
       "20  -18  514  26  \n",
       "21   -3  451  27  \n",
       "22    4  299  10  \n",
       "23   11  334  18  \n",
       "24    0    0   0  \n",
       "25  -49  474  30  \n",
       "26   99  391  26  \n",
       "27    0    0   0  \n",
       "28   24   57  12  \n",
       "29  -34  453  31  \n",
       "30   52  280  25  \n",
       "31    3   25   2  \n",
       "32  -34  439  26  \n",
       "33   82  420  13  \n",
       "34    6  335  19  \n",
       "35  -28   65   4  \n",
       "36   12   71   5  \n",
       "37   51  498  21  \n",
       "38  -50  281  26  \n",
       "39    4  348  24  \n",
       "40   21   33   3  \n",
       "41    7  340  21  \n",
       "42  122  468  19  \n",
       "43  -37  459  32  \n",
       "44    1  446  26  \n",
       "45   -4  480  33  \n",
       "46   10  231  21  \n",
       "47   -5   75   8  \n",
       "48   -6  108   9  \n",
       "49  -28  366  29  \n",
       "50  -11  362  25  \n",
       "51   85  445  32  \n",
       "52   34  415  27  \n",
       "53   21   67   2  \n",
       "54   -2   57   7  \n",
       "55   -5  393  23  \n",
       "56   11   90   8  \n",
       "57  -33  524  33  \n",
       "58   13  424  26  \n",
       "59  -25  500  32  "
      ]
     },
     "execution_count": 11,
     "metadata": {},
     "output_type": "execute_result"
    }
   ],
   "source": [
    "times_df = pd.read_csv(\"dataset/times_2015-2019.csv\")\n",
    "times_df"
   ]
  },
  {
   "cell_type": "markdown",
   "metadata": {},
   "source": [
    "## Títulos"
   ]
  },
  {
   "cell_type": "code",
   "execution_count": 16,
   "metadata": {},
   "outputs": [
    {
     "name": "stdout",
     "output_type": "stream",
     "text": [
      "Média dos Títulos:  2.1333333333333333\n",
      "Moda dos Títulos:  0    2\n",
      "dtype: int64\n",
      "Mediana dos Títulos:  2.0\n",
      "Variância dos Títulos:  2.5242937853107343\n",
      "Desvio Padrão dos Títulos:  1.5888026262914894\n"
     ]
    }
   ],
   "source": [
    "Media = times_df[\"Títulos\"].mean()\n",
    "Moda = times_df[\"Títulos\"].mode()\n",
    "Mediana = times_df[\"Títulos\"].median()\n",
    "Var = times_df[\"Títulos\"].var()\n",
    "DP = times_df[\"Títulos\"].var()**0.5\n",
    "print (\"Média dos Títulos: \", Media)\n",
    "print (\"Moda dos Títulos: \", Moda)\n",
    "print (\"Mediana dos Títulos: \", Mediana)\n",
    "print (\"Variância dos Títulos: \", Var)\n",
    "print (\"Desvio Padrão dos Títulos: \", DP)"
   ]
  },
  {
   "cell_type": "code",
   "execution_count": 24,
   "metadata": {},
   "outputs": [
    {
     "data": {
      "text/plain": [
       "<matplotlib.axes._subplots.AxesSubplot at 0xcf318e0>"
      ]
     },
     "execution_count": 24,
     "metadata": {},
     "output_type": "execute_result"
    },
    {
     "data": {
      "image/png": "[encoded data removed]",
      "text/plain": [
       "<Figure size 432x288 with 1 Axes>"
      ]
     },
     "metadata": {
      "needs_background": "light"
     },
     "output_type": "display_data"
    }
   ],
   "source": [
    "times_df.boxplot(column=\"Títulos\")"
   ]
  },
  {
   "cell_type": "markdown",
   "metadata": {},
   "source": [
    "## Pontos (PTS)"
   ]
  },
  {
   "cell_type": "code",
   "execution_count": 18,
   "metadata": {},
   "outputs": [
    {
     "name": "stdout",
     "output_type": "stream",
     "text": [
      "Média dos Pontos:  180.2\n",
      "Moda dos Pontos:  0    47\n",
      "dtype: int64\n",
      "Mediana dos Pontos:  223.5\n",
      "Variância dos Pontos:  10587.24745762712\n",
      "Desvio Padrão dos Pontos:  102.89435095099789\n"
     ]
    }
   ],
   "source": [
    "Media = times_df[\"PTS\"].mean()\n",
    "Moda = times_df[\"PTS\"].mode()\n",
    "Mediana = times_df[\"PTS\"].median()\n",
    "Var = times_df[\"PTS\"].var()\n",
    "DP = times_df[\"PTS\"].var()**0.5\n",
    "print (\"Média dos Pontos: \", Media)\n",
    "print (\"Moda dos Pontos: \", Moda)\n",
    "print (\"Mediana dos Pontos: \", Mediana)\n",
    "print (\"Variância dos Pontos: \", Var)\n",
    "print (\"Desvio Padrão dos Pontos: \", DP)"
   ]
  },
  {
   "cell_type": "code",
   "execution_count": 19,
   "metadata": {},
   "outputs": [
    {
     "data": {
      "text/plain": [
       "<matplotlib.axes._subplots.AxesSubplot at 0xa6e4ec8>"
      ]
     },
     "execution_count": 19,
     "metadata": {},
     "output_type": "execute_result"
    },
    {
     "data": {
      "image/png": "[encoded data removed]",
      "text/plain": [
       "<Figure size 432x288 with 1 Axes>"
      ]
     },
     "metadata": {
      "needs_background": "light"
     },
     "output_type": "display_data"
    }
   ],
   "source": [
    "times_df.boxplot(column=\"PTS\")"
   ]
  },
  {
   "cell_type": "markdown",
   "metadata": {},
   "source": [
    "## Jogos (J)"
   ]
  },
  {
   "cell_type": "code",
   "execution_count": 21,
   "metadata": {},
   "outputs": [
    {
     "name": "stdout",
     "output_type": "stream",
     "text": [
      "Média dos Jogos:  129.0\n",
      "Moda dos Jogos:  0    190\n",
      "dtype: int64\n",
      "Mediana dos Jogos:  161.0\n",
      "Variância dos Jogos:  5060.949152542373\n",
      "Desvio Padrão dos Jogos:  71.1403482739744\n"
     ]
    }
   ],
   "source": [
    "Media = times_df[\"J\"].mean()\n",
    "Moda = times_df[\"J\"].mode()\n",
    "Mediana = times_df[\"J\"].median()\n",
    "Var = times_df[\"J\"].var()\n",
    "DP = times_df[\"J\"].var()**0.5\n",
    "print (\"Média dos Jogos: \", Media)\n",
    "print (\"Moda dos Jogos: \", Moda)\n",
    "print (\"Mediana dos Jogos: \", Mediana)\n",
    "print (\"Variância dos Jogos: \", Var)\n",
    "print (\"Desvio Padrão dos Jogos: \", DP)"
   ]
  },
  {
   "cell_type": "code",
   "execution_count": 22,
   "metadata": {},
   "outputs": [
    {
     "data": {
      "text/plain": [
       "<matplotlib.axes._subplots.AxesSubplot at 0xceeb370>"
      ]
     },
     "execution_count": 22,
     "metadata": {},
     "output_type": "execute_result"
    },
    {
     "data": {
      "image/png": "[encoded data removed]",
      "text/plain": [
       "<Figure size 432x288 with 1 Axes>"
      ]
     },
     "metadata": {
      "needs_background": "light"
     },
     "output_type": "display_data"
    }
   ],
   "source": [
    "times_df.boxplot(column=\"J\")"
   ]
  },
  {
   "cell_type": "markdown",
   "metadata": {},
   "source": [
    "## Vitórias (V)"
   ]
  },
  {
   "cell_type": "code",
   "execution_count": 31,
   "metadata": {},
   "outputs": [
    {
     "name": "stdout",
     "output_type": "stream",
     "text": [
      "Média das Vitórias:  47.916666666666664\n",
      "Moda das Vitórias:  0    13\n",
      "1    65\n",
      "dtype: int64\n",
      "Mediana das Vitórias:  57.5\n",
      "Variância das Vitórias:  815.1963276836159\n",
      "Desvio Padrão das Vitórias:  28.55164316959036\n"
     ]
    }
   ],
   "source": [
    "Media = times_df[\"V\"].mean()\n",
    "Moda = times_df[\"V\"].mode()\n",
    "Mediana = times_df[\"V\"].median()\n",
    "Var = times_df[\"V\"].var()\n",
    "DP = times_df[\"V\"].var()**0.5\n",
    "print (\"Média das Vitórias: \", Media)\n",
    "print (\"Moda das Vitórias: \", Moda)\n",
    "print (\"Mediana das Vitórias: \", Mediana)\n",
    "print (\"Variância das Vitórias: \", Var)\n",
    "print (\"Desvio Padrão das Vitórias: \", DP)"
   ]
  },
  {
   "cell_type": "code",
   "execution_count": 32,
   "metadata": {},
   "outputs": [
    {
     "data": {
      "text/plain": [
       "<matplotlib.axes._subplots.AxesSubplot at 0xcf5ae08>"
      ]
     },
     "execution_count": 32,
     "metadata": {},
     "output_type": "execute_result"
    },
    {
     "data": {
      "image/png": "[encoded data removed]",
      "text/plain": [
       "<Figure size 432x288 with 1 Axes>"
      ]
     },
     "metadata": {
      "needs_background": "light"
     },
     "output_type": "display_data"
    }
   ],
   "source": [
    "times_df.boxplot(column=\"V\")"
   ]
  },
  {
   "cell_type": "markdown",
   "metadata": {},
   "source": [
    "## Empates (E)"
   ]
  },
  {
   "cell_type": "code",
   "execution_count": 33,
   "metadata": {},
   "outputs": [
    {
     "name": "stdout",
     "output_type": "stream",
     "text": [
      "Média dos Empates:  36.5\n",
      "Moda dos Empates:  0    57\n",
      "dtype: int64\n",
      "Mediana dos Empates:  42.5\n",
      "Variância dos Empates:  394.45762711864404\n",
      "Desvio Padrão dos Empates:  19.860957356548653\n"
     ]
    }
   ],
   "source": [
    "Media = times_df[\"E\"].mean()\n",
    "Moda = times_df[\"E\"].mode()\n",
    "Mediana = times_df[\"E\"].median()\n",
    "Var = times_df[\"E\"].var()\n",
    "DP = times_df[\"E\"].var()**0.5\n",
    "print (\"Média dos Empates: \", Media)\n",
    "print (\"Moda dos Empates: \", Moda)\n",
    "print (\"Mediana dos Empates: \", Mediana)\n",
    "print (\"Variância dos Empates: \", Var)\n",
    "print (\"Desvio Padrão dos Empates: \", DP)"
   ]
  },
  {
   "cell_type": "code",
   "execution_count": 34,
   "metadata": {},
   "outputs": [
    {
     "data": {
      "text/plain": [
       "<matplotlib.axes._subplots.AxesSubplot at 0xcfa3520>"
      ]
     },
     "execution_count": 34,
     "metadata": {},
     "output_type": "execute_result"
    },
    {
     "data": {
      "image/png": "[encoded data removed]",
      "text/plain": [
       "<Figure size 432x288 with 1 Axes>"
      ]
     },
     "metadata": {
      "needs_background": "light"
     },
     "output_type": "display_data"
    }
   ],
   "source": [
    "times_df.boxplot(column=\"E\")"
   ]
  },
  {
   "cell_type": "markdown",
   "metadata": {},
   "source": [
    "## Derrotas (D)"
   ]
  },
  {
   "cell_type": "code",
   "execution_count": 35,
   "metadata": {},
   "outputs": [
    {
     "name": "stdout",
     "output_type": "stream",
     "text": [
      "Média das Derrotas:  44.583333333333336\n",
      "Moda das Derrotas:  0    68\n",
      "dtype: int64\n",
      "Mediana das Derrotas:  54.0\n",
      "Variância das Derrotas:  698.8912429378531\n",
      "Desvio Padrão das Derrotas:  26.436551267853627\n"
     ]
    }
   ],
   "source": [
    "Media = times_df[\"D\"].mean()\n",
    "Moda = times_df[\"D\"].mode()\n",
    "Mediana = times_df[\"D\"].median()\n",
    "Var = times_df[\"D\"].var()\n",
    "DP = times_df[\"D\"].var()**0.5\n",
    "print (\"Média das Derrotas: \", Media)\n",
    "print (\"Moda das Derrotas: \", Moda)\n",
    "print (\"Mediana das Derrotas: \", Mediana)\n",
    "print (\"Variância das Derrotas: \", Var)\n",
    "print (\"Desvio Padrão das Derrotas: \", DP)"
   ]
  },
  {
   "cell_type": "code",
   "execution_count": 36,
   "metadata": {},
   "outputs": [
    {
     "data": {
      "text/plain": [
       "<matplotlib.axes._subplots.AxesSubplot at 0xcfd3ce8>"
      ]
     },
     "execution_count": 36,
     "metadata": {},
     "output_type": "execute_result"
    },
    {
     "data": {
      "image/png": "[encoded data removed]",
      "text/plain": [
       "<Figure size 432x288 with 1 Axes>"
      ]
     },
     "metadata": {
      "needs_background": "light"
     },
     "output_type": "display_data"
    }
   ],
   "source": [
    "times_df.boxplot(column=\"D\")"
   ]
  },
  {
   "cell_type": "markdown",
   "metadata": {},
   "source": [
    "## Gols Pró (GP)"
   ]
  },
  {
   "cell_type": "code",
   "execution_count": 37,
   "metadata": {},
   "outputs": [
    {
     "name": "stdout",
     "output_type": "stream",
     "text": [
      "Média dos Gols Pró:  152.21666666666667\n",
      "Moda dos Gols Pró:  0      0\n",
      "1     45\n",
      "2    202\n",
      "3    205\n",
      "4    223\n",
      "dtype: int64\n",
      "Mediana dos Gols Pró:  183.5\n",
      "Variância dos Gols Pró:  7348.714971751413\n",
      "Desvio Padrão dos Gols Pró:  85.72464623287408\n"
     ]
    }
   ],
   "source": [
    "Media = times_df[\"GP\"].mean()\n",
    "Moda = times_df[\"GP\"].mode()\n",
    "Mediana = times_df[\"GP\"].median()\n",
    "Var = times_df[\"GP\"].var()\n",
    "DP = times_df[\"GP\"].var()**0.5\n",
    "print (\"Média dos Gols Pró: \", Media)\n",
    "print (\"Moda dos Gols Pró: \", Moda)\n",
    "print (\"Mediana dos Gols Pró: \", Mediana)\n",
    "print (\"Variância dos Gols Pró: \", Var)\n",
    "print (\"Desvio Padrão dos Gols Pró: \", DP)"
   ]
  },
  {
   "cell_type": "code",
   "execution_count": 38,
   "metadata": {},
   "outputs": [
    {
     "data": {
      "text/plain": [
       "<matplotlib.axes._subplots.AxesSubplot at 0xcfd3328>"
      ]
     },
     "execution_count": 38,
     "metadata": {},
     "output_type": "execute_result"
    },
    {
     "data": {
      "image/png": "[encoded data removed]",
      "text/plain": [
       "<Figure size 432x288 with 1 Axes>"
      ]
     },
     "metadata": {
      "needs_background": "light"
     },
     "output_type": "display_data"
    }
   ],
   "source": [
    "times_df.boxplot(column=\"GP\")"
   ]
  },
  {
   "cell_type": "markdown",
   "metadata": {},
   "source": [
    "## Gols Contra (GC)"
   ]
  },
  {
   "cell_type": "code",
   "execution_count": 39,
   "metadata": {},
   "outputs": [
    {
     "name": "stdout",
     "output_type": "stream",
     "text": [
      "Média dos Gols Contra:  145.63333333333333\n",
      "Moda dos Gols Contra:  0      0\n",
      "1     36\n",
      "2    172\n",
      "3    186\n",
      "4    192\n",
      "5    203\n",
      "6    213\n",
      "dtype: int64\n",
      "Mediana dos Gols Contra:  175.0\n",
      "Variância dos Gols Contra:  6893.015819209038\n",
      "Desvio Padrão dos Gols Contra:  83.02418815748239\n"
     ]
    }
   ],
   "source": [
    "Media = times_df[\"GC\"].mean()\n",
    "Moda = times_df[\"GC\"].mode()\n",
    "Mediana = times_df[\"GC\"].median()\n",
    "Var = times_df[\"GC\"].var()\n",
    "DP = times_df[\"GC\"].var()**0.5\n",
    "print (\"Média dos Gols Contra: \", Media)\n",
    "print (\"Moda dos Gols Contra: \", Moda)\n",
    "print (\"Mediana dos Gols Contra: \", Mediana)\n",
    "print (\"Variância dos Gols Contra: \", Var)\n",
    "print (\"Desvio Padrão dos Gols Contra: \", DP)"
   ]
  },
  {
   "cell_type": "code",
   "execution_count": 43,
   "metadata": {},
   "outputs": [
    {
     "data": {
      "text/plain": [
       "<matplotlib.axes._subplots.AxesSubplot at 0xd078c58>"
      ]
     },
     "execution_count": 43,
     "metadata": {},
     "output_type": "execute_result"
    },
    {
     "data": {
      "image/png": "[encoded data removed]",
      "text/plain": [
       "<Figure size 432x288 with 1 Axes>"
      ]
     },
     "metadata": {
      "needs_background": "light"
     },
     "output_type": "display_data"
    }
   ],
   "source": [
    "times_df.boxplot(column=\"GC\")"
   ]
  },
  {
   "cell_type": "markdown",
   "metadata": {},
   "source": [
    "## Saldo de Gols (SG)"
   ]
  },
  {
   "cell_type": "code",
   "execution_count": 42,
   "metadata": {},
   "outputs": [
    {
     "name": "stdout",
     "output_type": "stream",
     "text": [
      "Média do Saldo de Gols:  6.583333333333333\n",
      "Moda do Saldo de Gols:  0   -5\n",
      "1    7\n",
      "dtype: int64\n",
      "Mediana do Saldo de Gols:  3.5\n",
      "Variância do Saldo de Gols:  1306.1793785310733\n",
      "Desvio Padrão do Saldo de Gols:  36.14110372596655\n"
     ]
    }
   ],
   "source": [
    "Media = times_df[\"SG\"].mean()\n",
    "Moda = times_df[\"SG\"].mode()\n",
    "Mediana = times_df[\"SG\"].median()\n",
    "Var = times_df[\"SG\"].var()\n",
    "DP = times_df[\"SG\"].var()**0.5\n",
    "print (\"Média do Saldo de Gols: \", Media)\n",
    "print (\"Moda do Saldo de Gols: \", Moda)\n",
    "print (\"Mediana do Saldo de Gols: \", Mediana)\n",
    "print (\"Variância do Saldo de Gols: \", Var)\n",
    "print (\"Desvio Padrão do Saldo de Gols: \", DP)"
   ]
  },
  {
   "cell_type": "code",
   "execution_count": 45,
   "metadata": {},
   "outputs": [
    {
     "data": {
      "text/plain": [
       "<matplotlib.axes._subplots.AxesSubplot at 0xd2047a8>"
      ]
     },
     "execution_count": 45,
     "metadata": {},
     "output_type": "execute_result"
    },
    {
     "data": {
      "image/png": "[encoded data removed]",
      "text/plain": [
       "<Figure size 432x288 with 1 Axes>"
      ]
     },
     "metadata": {
      "needs_background": "light"
     },
     "output_type": "display_data"
    }
   ],
   "source": [
    "times_df.boxplot(column=\"SG\")"
   ]
  },
  {
   "cell_type": "markdown",
   "metadata": {},
   "source": [
    "## Cartões Amarelos (CA)"
   ]
  },
  {
   "cell_type": "code",
   "execution_count": 46,
   "metadata": {},
   "outputs": [
    {
     "name": "stdout",
     "output_type": "stream",
     "text": [
      "Média dos Cartões Amarelos:  310.26666666666665\n",
      "Moda dos Cartões Amarelos:  0      0\n",
      "1     57\n",
      "2    391\n",
      "3    480\n",
      "dtype: int64\n",
      "Mediana dos Cartões Amarelos:  368.0\n",
      "Variância dos Cartões Amarelos:  28249.65649717514\n",
      "Desvio Padrão dos Cartões Amarelos:  168.07634127733488\n"
     ]
    }
   ],
   "source": [
    "Media = times_df[\"CA\"].mean()\n",
    "Moda = times_df[\"CA\"].mode()\n",
    "Mediana = times_df[\"CA\"].median()\n",
    "Var = times_df[\"CA\"].var()\n",
    "DP = times_df[\"CA\"].var()**0.5\n",
    "print (\"Média dos Cartões Amarelos: \", Media)\n",
    "print (\"Moda dos Cartões Amarelos: \", Moda)\n",
    "print (\"Mediana dos Cartões Amarelos: \", Mediana)\n",
    "print (\"Variância dos Cartões Amarelos: \", Var)\n",
    "print (\"Desvio Padrão dos Cartões Amarelos: \", DP)"
   ]
  },
  {
   "cell_type": "code",
   "execution_count": 47,
   "metadata": {},
   "outputs": [
    {
     "data": {
      "text/plain": [
       "<matplotlib.axes._subplots.AxesSubplot at 0xd235d60>"
      ]
     },
     "execution_count": 47,
     "metadata": {},
     "output_type": "execute_result"
    },
    {
     "data": {
      "image/png": "[encoded data removed]",
      "text/plain": [
       "<Figure size 432x288 with 1 Axes>"
      ]
     },
     "metadata": {
      "needs_background": "light"
     },
     "output_type": "display_data"
    }
   ],
   "source": [
    "times_df.boxplot(column=\"CA\")"
   ]
  },
  {
   "cell_type": "markdown",
   "metadata": {},
   "source": [
    "## Cartões Vermelhos (CV)"
   ]
  },
  {
   "cell_type": "code",
   "execution_count": 48,
   "metadata": {},
   "outputs": [
    {
     "name": "stdout",
     "output_type": "stream",
     "text": [
      "Média dos Cartões Vermelhos:  18.45\n",
      "Moda dos Cartões Vermelhos:  0    26\n",
      "dtype: int64\n",
      "Mediana dos Cartões Vermelhos:  19.5\n",
      "Variância dos Cartões Vermelhos:  102.9635593220339\n",
      "Desvio Padrão dos Cartões Vermelhos:  10.14709610292688\n"
     ]
    }
   ],
   "source": [
    "Media = times_df[\"CV\"].mean()\n",
    "Moda = times_df[\"CV\"].mode()\n",
    "Mediana = times_df[\"CV\"].median()\n",
    "Var = times_df[\"CV\"].var()\n",
    "DP = times_df[\"CV\"].var()**0.5\n",
    "print (\"Média dos Cartões Vermelhos: \", Media)\n",
    "print (\"Moda dos Cartões Vermelhos: \", Moda)\n",
    "print (\"Mediana dos Cartões Vermelhos: \", Mediana)\n",
    "print (\"Variância dos Cartões Vermelhos: \", Var)\n",
    "print (\"Desvio Padrão dos Cartões Vermelhos: \", DP)"
   ]
  },
  {
   "cell_type": "code",
   "execution_count": 49,
   "metadata": {},
   "outputs": [
    {
     "data": {
      "text/plain": [
       "<matplotlib.axes._subplots.AxesSubplot at 0xd270370>"
      ]
     },
     "execution_count": 49,
     "metadata": {},
     "output_type": "execute_result"
    },
    {
     "data": {
      "image/png": "[encoded data removed]",
      "text/plain": [
       "<Figure size 432x288 with 1 Axes>"
      ]
     },
     "metadata": {
      "needs_background": "light"
     },
     "output_type": "display_data"
    }
   ],
   "source": [
    "times_df.boxplot(column=\"CV\")"
   ]
  }
 ],
 "metadata": {
  "kernelspec": {
   "display_name": "Python 3",
   "language": "python",
   "name": "python3"
  },
  "language_info": {
   "codemirror_mode": {
    "name": "ipython",
    "version": 3
   },
   "file_extension": ".py",
   "mimetype": "text/x-python",
   "name": "python",
   "nbconvert_exporter": "python",
   "pygments_lexer": "ipython3",
   "version": "3.8.5"
  }
 },
 "nbformat": 4,
 "nbformat_minor": 4
}
